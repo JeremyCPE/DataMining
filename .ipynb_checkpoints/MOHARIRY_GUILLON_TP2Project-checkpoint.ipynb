{
 "cells": [
  {
   "cell_type": "markdown",
   "metadata": {},
   "source": [
    "The goal of this project is to recommend images based on preferences of the user. We will build this system in three practical sessions.\n",
    "We have to collect the following data.\n",
    "\n",
    "    A set of images.\n",
    "    Ask the user to select some images and add tags.\n",
    "    We analyse user created-tags and information (like image size, predominant colors) of available images to propose new images to the user.\n",
    "\n",
    "For this question, you have the following tasks to program:\n",
    "\n",
    "    Create a folder called testimages.\n",
    "    Download open-licensed images to the folder testimages.\n",
    "    Save information of images (like predominant colors, tags, image size etc.) in a JSON file.\n",
    "\n",
    "Ask the user to select some images and add tags. For every user, you are now in a position to build user-preference profile, based on this selection. You can collect information like\n",
    "\n",
    "    Favorite colors\n",
    "    Favorite image sizes (thumbnail images, large images, medium-size images etc.)\n",
    "    Tags\n",
    "    ...\n"
   ]
  },
  {
   "cell_type": "code",
   "execution_count": 4,
   "metadata": {},
   "outputs": [
    {
     "name": "stdout",
     "output_type": "stream",
     "text": [
      "Analyse des 4  couleurs des 10  images\n"
     ]
    },
    {
     "ename": "NameError",
     "evalue": "name 'data2' is not defined",
     "output_type": "error",
     "traceback": [
      "\u001b[1;31m---------------------------------------------------------------------------\u001b[0m",
      "\u001b[1;31mNameError\u001b[0m                                 Traceback (most recent call last)",
      "\u001b[1;32m<ipython-input-4-383f77a0b034>\u001b[0m in \u001b[0;36m<module>\u001b[1;34m\u001b[0m\n\u001b[0;32m     46\u001b[0m     \u001b[0mdata\u001b[0m\u001b[1;33m[\u001b[0m\u001b[1;34m\"size\"\u001b[0m\u001b[1;33m]\u001b[0m \u001b[1;33m=\u001b[0m \u001b[0mimgfile\u001b[0m\u001b[1;33m.\u001b[0m\u001b[0msize\u001b[0m\u001b[1;33m\u001b[0m\u001b[1;33m\u001b[0m\u001b[0m\n\u001b[0;32m     47\u001b[0m     \u001b[1;32mwith\u001b[0m \u001b[0mopen\u001b[0m\u001b[1;33m(\u001b[0m\u001b[1;34m'project/data.json'\u001b[0m\u001b[1;33m,\u001b[0m \u001b[1;34m'a'\u001b[0m\u001b[1;33m)\u001b[0m \u001b[1;32mas\u001b[0m \u001b[0moutfile\u001b[0m\u001b[1;33m:\u001b[0m\u001b[1;33m\u001b[0m\u001b[1;33m\u001b[0m\u001b[0m\n\u001b[1;32m---> 48\u001b[1;33m         \u001b[0mjson\u001b[0m\u001b[1;33m.\u001b[0m\u001b[0mdump\u001b[0m\u001b[1;33m(\u001b[0m\u001b[0mdata2\u001b[0m\u001b[1;33m,\u001b[0m \u001b[0moutfile\u001b[0m\u001b[1;33m)\u001b[0m\u001b[1;33m\u001b[0m\u001b[1;33m\u001b[0m\u001b[0m\n\u001b[0m\u001b[0;32m     49\u001b[0m         \u001b[1;32mif\u001b[0m\u001b[1;33m(\u001b[0m\u001b[0mcount\u001b[0m \u001b[1;33m!=\u001b[0m \u001b[0mselectionMax\u001b[0m\u001b[1;33m-\u001b[0m\u001b[1;36m1\u001b[0m\u001b[1;33m)\u001b[0m\u001b[1;33m:\u001b[0m\u001b[1;33m\u001b[0m\u001b[1;33m\u001b[0m\u001b[0m\n\u001b[0;32m     50\u001b[0m             \u001b[0moutfile\u001b[0m\u001b[1;33m.\u001b[0m\u001b[0mwrite\u001b[0m\u001b[1;33m(\u001b[0m\u001b[1;34m\",\"\u001b[0m\u001b[1;33m)\u001b[0m\u001b[1;33m\u001b[0m\u001b[1;33m\u001b[0m\u001b[0m\n",
      "\u001b[1;31mNameError\u001b[0m: name 'data2' is not defined"
     ]
    }
   ],
   "source": [
    "from PIL import Image\n",
    "\n",
    "\n",
    "from operator import itemgetter\n",
    "import numpy\n",
    "import math\n",
    "import matplotlib.pyplot as plot\n",
    "import glob\n",
    "import json\n",
    "import os\n",
    "from sklearn.cluster import KMeans\n",
    "\n",
    "listTotImage = glob.glob(\"project/testimages/*\")\n",
    "selectionMax = len(listTotImage) #Nombre d'images max selectionnées\n",
    "n = 4\n",
    "count = 0\n",
    "print(\"Analyse des\",n, \" couleurs des\",selectionMax,\" images\")\n",
    "f = open(\"project/data.json\", \"w\")\n",
    "f.write('{\"pictures\":[')\n",
    "f.close()\n",
    "for i in listTotImage:\n",
    "    \n",
    "    data = {}\n",
    "    data['name'] = os.path.basename(i)\n",
    "    data['tag'] = \"\"\n",
    "    imgfile = Image.open(i)\n",
    "    numarray = numpy.array(imgfile.getdata(), numpy.uint8)\n",
    "    clusters = KMeans(n_clusters = n)\n",
    "    clusters.fit(numarray)\n",
    "    npbins = numpy.arange(0, n+1)\n",
    "    #nbpins = array([0, 1, ..., n-1])\n",
    "    histogram = numpy.histogram(clusters.labels_, bins=npbins)\n",
    "    labels = numpy.unique(clusters.labels_)\n",
    "    colors = []\n",
    "    sizes = histogram[0]\n",
    "    def rgb_to_hex(rgb):\n",
    "        return \"#%02x%02x%02x\" % rgb\n",
    "    for j in range(n):\n",
    "        color = rgb_to_hex(\n",
    "           (math.ceil(clusters.cluster_centers_[j][0]), \n",
    "            math.ceil(clusters.cluster_centers_[j][1]), \n",
    "            math.ceil(clusters.cluster_centers_[j][2])))\n",
    "        colors.append(color)\n",
    "    data[\"colors\"] = colors\n",
    "    data[\"intensity\"] = sizes.tolist()\n",
    "    data[\"size\"] = imgfile.size\n",
    "    with open('project/data.json', 'a') as outfile:\n",
    "        json.dump(data2, outfile)\n",
    "        if(count != selectionMax-1):\n",
    "            outfile.write(\",\")\n",
    "    count = count + 1\n",
    "    \n",
    "    plot.pie(sizes, labels=labels, colors=colors,shadow=True, startangle=140)\n",
    "    plot.show()\n",
    "f = open(\"project/data.json\", \"a\")\n",
    "f.write(']')\n",
    "f.close()\n",
    "print(\"Fin, voir le fichier json\")"
   ]
  },
  {
   "cell_type": "markdown",
   "metadata": {},
   "source": [
    "#### Interaction avec l'utlisateur"
   ]
  },
  {
   "cell_type": "code",
   "execution_count": 4,
   "metadata": {},
   "outputs": [
    {
     "name": "stdout",
     "output_type": "stream",
     "text": [
      "T= Tag /C = CouleurT\n",
      "Saisir le numéro a taguer 2\n",
      "Saisir le tag coca\n",
      "Fait !\n"
     ]
    }
   ],
   "source": [
    "from pandas.io.json import json_normalize\n",
    "import pandas as pd\n",
    "import json\n",
    "import matplotlib.pyplot as plot\n",
    "\n",
    "\n",
    "while True:\n",
    "    n = input(\"T= Tag /C = Couleur\")\n",
    "    if n in ['T','C','A']:\n",
    "        break\n",
    "    else:\n",
    "        print(\"Saisie invalide\")\n",
    "if n == 'T':\n",
    "    tag = input(\"Saisir le numéro a taguer \")\n",
    "    strTag = input(\"Saisir le tag \")\n",
    "    with open(\"project/data.json\", \"r\") as jsonFile:\n",
    "        jsondata = json.load(jsonFile)\n",
    "    tmp = jsondata[int(tag)]['tag']\n",
    "    jsondata[int(tag)]['tag'] = strTag\n",
    "    with open(\"project/data.json\", \"w\") as jsonFile:\n",
    "        json.dump(jsondata, jsonFile)\n",
    "    print(\"Fait !\")\n",
    "if n == 'C':\n",
    "    clr = input(\"Saisir le numéro \")\n",
    "    with open(\"project/data.json\", \"r\") as jsonFile:\n",
    "        jsondata = json.load(jsonFile)\n",
    "    tmp = jsondata[int(clr)]['colors']\n",
    "    tmp2 = jsondata[int(clr)]['intensity']\n",
    "    print(\"Couleurs :\",tmp)\n",
    "    print(\"Intensite :\",tmp2)"
   ]
  },
  {
   "cell_type": "code",
   "execution_count": 1,
   "metadata": {},
   "outputs": [
    {
     "name": "stdout",
     "output_type": "stream",
     "text": [
      "Quel est votre pseudo ?\n",
      "Saisie invalide\n",
      "Quel est votre pseudo ?Alex\n"
     ]
    }
   ],
   "source": [
    "from pandas.io.json import json_normalize\n",
    "import pandas as pd\n",
    "import json\n",
    "import matplotlib.pyplot as plot\n",
    "\n",
    "\n",
    "userPseudo = \"\";\n",
    "while True:\n",
    "    userPseudo = input(\"Quel est votre pseudo ?\")\n",
    "    if not userPseudo:\n",
    "        print(\"Saisie invalide\")\n",
    "    else:\n",
    "        break"
   ]
  },
  {
   "cell_type": "code",
   "execution_count": 15,
   "metadata": {},
   "outputs": [
    {
     "name": "stdout",
     "output_type": "stream",
     "text": [
      "\n",
      "Fin, voir le fichier json\n"
     ]
    }
   ],
   "source": [
    "from PIL import Image\n",
    "\n",
    "\n",
    "from operator import itemgetter\n",
    "import numpy\n",
    "import math\n",
    "import matplotlib.pyplot as plot\n",
    "import glob\n",
    "import json\n",
    "import os\n",
    "from sklearn.cluster import KMeans\n",
    "\n",
    "f = open(\"project/data.json\", \"a\")\n",
    "f.write('\",user\":[')\n",
    "f.close()\n",
    "data2 = {}\n",
    "data2['username'] = \"Robert\"\n",
    "data2['favorites'] = [1,2,3,4]\n",
    "data2['username'] = \"Roger\"\n",
    "data2['favorites'] = [8,2]\n",
    "with open('project/data.json', 'a') as outfile:\n",
    "    json.dump(data2, outfile)\n",
    "f = open(\"project/data.json\", \"a\")\n",
    "f.write(']}')\n",
    "f.close()\n",
    "print(\"Fin, voir le fichier json\")"
   ]
  },
  {
   "cell_type": "code",
   "execution_count": 14,
   "metadata": {},
   "outputs": [
    {
     "name": "stdout",
     "output_type": "stream",
     "text": [
      "Bienvenue  Robert !\n",
      "1= Voir la liste des favoris /2 = Ajouter des favoris /3= Supprimer des favoris3\n",
      "0 : blonde_bar_trinque.jpg\n",
      "1 : blonde_exterieur_amis.jpg\n",
      "2 : blonde_exterieur_art (2).jpg\n",
      "3 : blonde_exterieur_art.jpg\n",
      "4 : blonde_montage_art.jpg\n",
      "5 : blonde_montage_foot.jpg\n",
      "Selectionnez la liste des images à supprimer en favoris (séparé par des espaces)1\n",
      "Nombre de favoris hors borne\n",
      "Mauvaise saisie\n"
     ]
    },
    {
     "ename": "NameError",
     "evalue": "name 'listFav' is not defined",
     "output_type": "error",
     "traceback": [
      "\u001b[1;31m---------------------------------------------------------------------------\u001b[0m",
      "\u001b[1;31mNameError\u001b[0m                                 Traceback (most recent call last)",
      "\u001b[1;32m<ipython-input-14-523c0fafff9e>\u001b[0m in \u001b[0;36m<module>\u001b[1;34m\u001b[0m\n\u001b[0;32m    105\u001b[0m     \u001b[0mjsondata\u001b[0m \u001b[1;33m=\u001b[0m \u001b[0mjson\u001b[0m\u001b[1;33m.\u001b[0m\u001b[0mload\u001b[0m\u001b[1;33m(\u001b[0m\u001b[0mjsonFile\u001b[0m\u001b[1;33m)\u001b[0m\u001b[1;33m\u001b[0m\u001b[1;33m\u001b[0m\u001b[0m\n\u001b[0;32m    106\u001b[0m \u001b[0mret\u001b[0m \u001b[1;33m=\u001b[0m \u001b[0mfav_images\u001b[0m\u001b[1;33m(\u001b[0m\u001b[1;34m\"Robert\"\u001b[0m\u001b[1;33m,\u001b[0m\u001b[0mjsondata\u001b[0m\u001b[1;33m)\u001b[0m\u001b[1;33m\u001b[0m\u001b[1;33m\u001b[0m\u001b[0m\n\u001b[1;32m--> 107\u001b[1;33m \u001b[0mret2\u001b[0m \u001b[1;33m=\u001b[0m \u001b[0mget_name_images\u001b[0m\u001b[1;33m(\u001b[0m\u001b[0mlistFav\u001b[0m\u001b[1;33m,\u001b[0m\u001b[0mjsondata\u001b[0m\u001b[1;33m)\u001b[0m\u001b[1;33m\u001b[0m\u001b[1;33m\u001b[0m\u001b[0m\n\u001b[0m\u001b[0;32m    108\u001b[0m \u001b[1;33m\u001b[0m\u001b[0m\n\u001b[0;32m    109\u001b[0m \u001b[1;31m#print(\"Liste des favoris :\", listFav)\u001b[0m\u001b[1;33m\u001b[0m\u001b[1;33m\u001b[0m\u001b[1;33m\u001b[0m\u001b[0m\n",
      "\u001b[1;31mNameError\u001b[0m: name 'listFav' is not defined"
     ]
    }
   ],
   "source": [
    "from PIL import Image\n",
    "\n",
    "\n",
    "from operator import itemgetter\n",
    "import numpy\n",
    "import math\n",
    "import matplotlib.pyplot as plot\n",
    "import glob\n",
    "import json\n",
    "import os\n",
    "from sklearn.cluster import KMeans\n",
    "\n",
    "\n",
    "def set_favorites(newFav,jsondata,usernameId):\n",
    "    jsondata['users'][usernameId]['favorites'] = list(newFav)\n",
    "    print(jsondata['users'][usernameId]['favorites'])\n",
    "    with open(\"project/data.json\", \"w\") as jsonFile:\n",
    "        json.dump(jsondata, jsonFile)\n",
    "    \n",
    "def fav_images(username,jsondata):\n",
    "    print(\"Bienvenue \", username, \"!\")\n",
    "    while True :\n",
    "        n = input(\"1= Voir la liste des favoris /2 = Ajouter des favoris /3= Supprimer des favoris\")\n",
    "        if n in ['1','2','3']:\n",
    "            break\n",
    "        else:\n",
    "            print(\"Saisie invalide\")\n",
    "    if n == '1':\n",
    "        a,b = get_favorites_from_user(username,jsondata)\n",
    "        return a\n",
    "    if n == '2':\n",
    "        arrayName = []\n",
    "        listRes = []\n",
    "        listName = get_all_name_images(jsondata)\n",
    "        display_images(listName)\n",
    "        oldFav,i = get_favorites_from_user(username,jsondata)\n",
    "        try:\n",
    "            arrayName = [int(x) for x in input(\"Selectionnez 6 à 10 images à mettre en favoris (séparé par des espaces)\").split()]\n",
    "            listFav = numpy.concatenate((oldFav, arrayName))\n",
    "            print(oldFav)\n",
    "            listFav = numpy.unique(listFav).astype(int).tolist()#supprimer les doublons\n",
    "            if len(listFav) > 10 or len(listFav) < 6 :\n",
    "                print(\"Nombre de favoris hors borne\")\n",
    "                raise ValueError\n",
    "            listFav.sort()\n",
    "            listFav = list(listFav)\n",
    "            print(\"listFav=\",listFav)\n",
    "            set_favorites(listFav,jsondata,i)\n",
    "            return 1\n",
    "        except ValueError:\n",
    "            print(\"Mauvaise saisie\")\n",
    "            return 2\n",
    "        #n = input(str(listName))\n",
    "    if n == '3':\n",
    "        a,b = get_favorites_from_user(username,jsondata)\n",
    "        listName = get_name_images(a,jsondata)\n",
    "        display_images(listName)\n",
    "        try:\n",
    "            arrayName = [int(x) for x in input(\"Selectionnez la liste des images à supprimer en favoris (séparé par des espaces)\").split()]\n",
    "            for i in arrayName :\n",
    "                a.remove(i)\n",
    "            if len(a) > 10 or len(a) < 6 :\n",
    "                print(\"Nombre de favoris hors borne\")\n",
    "                raise ValueError\n",
    "            set_favorites(a,jsondata,b)\n",
    "        except ValueError:\n",
    "            print(\"Mauvaise saisie\")\n",
    "            return 2\n",
    "        #n = input(str(listName))\n",
    "        \n",
    "def get_favorites_from_user(username,jsondata):\n",
    "    listFav = []\n",
    "    tmp = jsondata['users']\n",
    "    value = 0\n",
    "    for i in tmp:\n",
    "        if i['username'] == username:\n",
    "            listFav = i['favorites']\n",
    "            break\n",
    "        value += 1\n",
    "    return listFav, value\n",
    "    \n",
    "def get_name_images(listFav,jsondata):\n",
    "    tmp = jsondata['pictures']\n",
    "    listName = []\n",
    "    count = 0\n",
    "    for i in listFav:\n",
    "        listName.append(tmp[i]['name'])\n",
    "    return listName\n",
    "\n",
    "def get_all_name_images(jsondata):\n",
    "    tmp = jsondata['pictures']\n",
    "    listName = []\n",
    "    count = 0\n",
    "    for i in tmp:\n",
    "        if i['isSample'] == 1 :\n",
    "            listName.append(i['name'])\n",
    "    return listName\n",
    "\n",
    "def display_images(listName):\n",
    "    #todo\n",
    "        \n",
    "\n",
    "with open(\"project/data.json\", \"r\") as jsonFile:\n",
    "    jsondata = json.load(jsonFile)\n",
    "ret = fav_images(\"Robert\",jsondata)\n",
    "ret2 = get_name_images(listFav,jsondata)\n",
    " \n",
    "#print(\"Liste des favoris :\", listFav)\n",
    "#print(\"Nom associé aux favoris :\", str(listName))"
   ]
  },
  {
   "cell_type": "code",
   "execution_count": null,
   "metadata": {},
   "outputs": [],
   "source": []
  },
  {
   "cell_type": "code",
   "execution_count": null,
   "metadata": {},
   "outputs": [],
   "source": []
  },
  {
   "cell_type": "code",
   "execution_count": null,
   "metadata": {},
   "outputs": [],
   "source": [
    "\n"
   ]
  }
 ],
 "metadata": {
  "kernelspec": {
   "display_name": "Python 3",
   "language": "python",
   "name": "python3"
  },
  "language_info": {
   "codemirror_mode": {
    "name": "ipython",
    "version": 3
   },
   "file_extension": ".py",
   "mimetype": "text/x-python",
   "name": "python",
   "nbconvert_exporter": "python",
   "pygments_lexer": "ipython3",
   "version": "3.7.4"
  },
  "widgets": {
   "application/vnd.jupyter.widget-state+json": {
    "state": {},
    "version_major": 2,
    "version_minor": 0
   }
  }
 },
 "nbformat": 4,
 "nbformat_minor": 2
}
