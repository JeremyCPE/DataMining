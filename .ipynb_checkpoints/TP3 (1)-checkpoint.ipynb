{
 "cells": [
  {
   "cell_type": "markdown",
   "metadata": {},
   "source": [
    "### Exercice 3.1"
   ]
  },
  {
   "cell_type": "code",
   "execution_count": 2,
   "metadata": {},
   "outputs": [
    {
     "name": "stdout",
     "output_type": "stream",
     "text": [
      "[1.] [[1.]]\n",
      "[[ 7.]\n",
      " [ 8.]\n",
      " [ 9.]\n",
      " [10.]\n",
      " [11.]]\n"
     ]
    }
   ],
   "source": [
    "import numpy as np\n",
    "import matplotlib.pyplot as plot\n",
    "from sklearn.linear_model import LinearRegression\n",
    "numarray = np.array([[0,1], [1,2], [2,3], [3,4], [4,5], [5,6]])\n",
    "\n",
    "lr = LinearRegression()\n",
    "lr.fit(numarray[:, 0].reshape(-1, 1), numarray[:, 1].reshape(-1, 1))\n",
    "\n",
    "#printing coefficients\n",
    "print(lr.intercept_, lr.coef_)\n",
    "\n",
    "x_predict = np.array([6, 7, 8, 9, 10])\n",
    "\n",
    "y_predict = lr.predict(x_predict.reshape(-1, 1))\n",
    "print(y_predict)"
   ]
  },
  {
   "cell_type": "markdown",
   "metadata": {},
   "source": [
    "On a __y_predict__ qui prédit les nouvelles valeurs de _y_ en fonctions des nouvelles valeurs de _x_ et des anciennes valeurs de _x_ et de _y_"
   ]
  },
  {
   "cell_type": "code",
   "execution_count": 4,
   "metadata": {},
   "outputs": [
    {
     "name": "stdout",
     "output_type": "stream",
     "text": [
      "[-3.33333333] [[5.]]\n",
      "[[26.66666667]\n",
      " [31.66666667]\n",
      " [36.66666667]\n",
      " [41.66666667]\n",
      " [46.66666667]]\n"
     ]
    }
   ],
   "source": [
    "import numpy as np\n",
    "import matplotlib.pyplot as plot\n",
    "from sklearn.linear_model import LinearRegression\n",
    "\n",
    "numarray = np.array([[0,0], [1,1], [2,4], [3,9], [4,16], [5,25]])\n",
    "\n",
    "lr = LinearRegression()\n",
    "lr.fit(numarray[:, 0].reshape(-1, 1), numarray[:, 1].reshape(-1, 1))\n",
    "\n",
    "#printing coefficients\n",
    "print(lr.intercept_, lr.coef_)\n",
    "\n",
    "x_predict = np.array([6, 7, 8, 9, 10])\n",
    "\n",
    "y_predict = lr.predict(x_predict.reshape(-1, 1))\n",
    "print(y_predict)"
   ]
  },
  {
   "cell_type": "markdown",
   "metadata": {},
   "source": [
    "Ici la prédiction ne marche pas pour y=x², le lr.fit n'est pas cohérent par rapport à la fonction demandé."
   ]
  },
  {
   "cell_type": "code",
   "execution_count": 5,
   "metadata": {},
   "outputs": [
    {
     "name": "stdout",
     "output_type": "stream",
     "text": [
      "[1.77635684e-15] [[0.00000000e+00 1.03862408e-15 1.00000000e+00]]\n",
      "[[ 36.]\n",
      " [ 49.]\n",
      " [ 64.]\n",
      " [ 81.]\n",
      " [100.]]\n"
     ]
    }
   ],
   "source": [
    "import numpy as np\n",
    "import matplotlib.pyplot as plot\n",
    "from sklearn.linear_model import LinearRegression\n",
    "from sklearn.preprocessing import PolynomialFeatures\n",
    "\n",
    "numarray = np.array([[0,0], [1,1], [2,4], [3,9], [4,16], [5,25]])\n",
    "\n",
    "#using polynomial features\n",
    "pf = PolynomialFeatures(degree=2)\n",
    "x_poly = pf.fit_transform(numarray[:, 0].reshape(-1, 1))\n",
    "lr = LinearRegression()\n",
    "lr.fit(x_poly, numarray[:, 1].reshape(-1, 1))\n",
    "\n",
    "#printing coefficients\n",
    "print(lr.intercept_, lr.coef_)\n",
    "\n",
    "x_predict = np.array([6, 7, 8, 9, 10])\n",
    "\n",
    "y_predict = lr.predict(pf.fit_transform(x_predict.reshape(-1, 1)))\n",
    "print(y_predict)"
   ]
  },
  {
   "cell_type": "markdown",
   "metadata": {},
   "source": [
    "La prediction marche grâce à ```pf = PolynomialFeatures(degree=2)```"
   ]
  },
  {
   "cell_type": "markdown",
   "metadata": {},
   "source": [
    "__Avec un polynome du Troisième Degree__ :"
   ]
  },
  {
   "cell_type": "code",
   "execution_count": 2,
   "metadata": {},
   "outputs": [
    {
     "name": "stdout",
     "output_type": "stream",
     "text": [
      "[7.10542736e-15] [[ 0.00000000e+00  7.83973414e-15 -3.82064805e-15  1.00000000e+00]]\n",
      "[[ 216.]\n",
      " [ 343.]\n",
      " [ 512.]\n",
      " [ 729.]\n",
      " [1000.]]\n"
     ]
    }
   ],
   "source": [
    "import numpy as np\n",
    "import matplotlib.pyplot as plot\n",
    "from sklearn.linear_model import LinearRegression\n",
    "from sklearn.preprocessing import PolynomialFeatures\n",
    "\n",
    "numarray = np.array([[0,0], [1,1], [2,8], [3,27], [4,64], [5,125]])\n",
    "\n",
    "#using polynomial features\n",
    "pf = PolynomialFeatures(degree=3)\n",
    "x_poly = pf.fit_transform(numarray[:, 0].reshape(-1, 1))\n",
    "lr = LinearRegression()\n",
    "lr.fit(x_poly, numarray[:, 1].reshape(-1, 1))\n",
    "\n",
    "#printing coefficients\n",
    "print(lr.intercept_, lr.coef_)\n",
    "\n",
    "x_predict = np.array([6, 7, 8, 9, 10])\n",
    "\n",
    "y_predict = lr.predict(pf.fit_transform(x_predict.reshape(-1, 1)))\n",
    "print(y_predict)"
   ]
  },
  {
   "cell_type": "markdown",
   "metadata": {},
   "source": [
    "np.array est un tableau de valeur [x,y] avec y=x^3\n",
    "On a par exemple [6,6^3] = [6,216]\n",
    "La prediction fonctionne."
   ]
  },
  {
   "cell_type": "code",
   "execution_count": 3,
   "metadata": {},
   "outputs": [
    {
     "data": {
      "text/plain": [
       "<matplotlib.axes._subplots.AxesSubplot at 0x1f93b991988>"
      ]
     },
     "execution_count": 3,
     "metadata": {},
     "output_type": "execute_result"
    },
    {
     "data": {
      "image/png": "[encoded data removed]",
      "text/plain": [
       "<Figure size 432x288 with 1 Axes>"
      ]
     },
     "metadata": {
      "needs_background": "light"
     },
     "output_type": "display_data"
    }
   ],
   "source": [
    "import numpy as np\n",
    "import matplotlib.pyplot as plot\n",
    "import pandas as pd\n",
    "dataset = np.loadtxt(\"population.csv\", dtype={'names': ('year', 'population'), 'formats': ('i4', 'i')},\n",
    "    skiprows=1, delimiter=\",\", encoding=\"UTF-8\")\n",
    "\n",
    "df = pd.DataFrame(dataset)\n",
    "df.plot(x='year', y='population', kind='scatter')"
   ]
  },
  {
   "cell_type": "code",
   "execution_count": 2,
   "metadata": {},
   "outputs": [
    {
     "name": "stdout",
     "output_type": "stream",
     "text": [
      "[-5.86674085e+08] [[324065.22138837]]\n"
     ]
    },
    {
     "data": {
      "image/png": "[encoded data removed]",
      "text/plain": [
       "<Figure size 432x288 with 1 Axes>"
      ]
     },
     "metadata": {
      "needs_background": "light"
     },
     "output_type": "display_data"
    }
   ],
   "source": [
    "import numpy as np\n",
    "import matplotlib.pyplot as plot\n",
    "import pandas as pd\n",
    "from sklearn.linear_model import LinearRegression\n",
    "dataset = np.loadtxt(\"population.csv\", dtype={'names': ('year', 'population'), 'formats': ('i4', 'i')},\n",
    "    skiprows=1, delimiter=\",\", encoding=\"UTF-8\")\n",
    "\n",
    "df = pd.DataFrame(dataset[4:])\n",
    "\n",
    "#training data\n",
    "x_train = df['year'][:40].values.reshape(-1, 1)\n",
    "y_train = df['population'][:40].values.reshape(-1, 1)\n",
    "\n",
    "#training\n",
    "lr = LinearRegression()\n",
    "lr.fit(x_train, y_train)\n",
    "\n",
    "#printing coefficients\n",
    "print(lr.intercept_, lr.coef_)\n",
    "\n",
    "#prediction\n",
    "x_predict = x_train = df['year'][41:].values.reshape(-1, 1)\n",
    "y_actual = df['population'][41:].values.reshape(-1, 1)\n",
    "y_predict = lr.predict(x_predict)\n",
    "\n",
    "plot.scatter(x_predict, y_actual)\n",
    "plot.plot(x_predict, y_predict, color='red', linewidth=2)\n",
    "plot.show()"
   ]
  },
  {
   "cell_type": "markdown",
   "metadata": {},
   "source": [
    "Ici on récupère toute les données de population à partir de 1960 (4ème ligne)\n",
    "La ligne rouge correspond aux données prédits\n",
    "La ligne bleue correspond aux données réelle"
   ]
  },
  {
   "cell_type": "code",
   "execution_count": 5,
   "metadata": {},
   "outputs": [
    {
     "name": "stdout",
     "output_type": "stream",
     "text": [
      "[-3.80859787e+08] [[220117.23004675]]\n"
     ]
    },
    {
     "data": {
      "image/png": "[encoded data removed]",
      "text/plain": [
       "<Figure size 432x288 with 1 Axes>"
      ]
     },
     "metadata": {
      "needs_background": "light"
     },
     "output_type": "display_data"
    }
   ],
   "source": [
    "import numpy as np\n",
    "import matplotlib.pyplot as plot\n",
    "import pandas as pd\n",
    "from sklearn.linear_model import LinearRegression\n",
    "dataset = np.loadtxt(\"population.csv\", dtype={'names': ('year', 'population'), 'formats': ('i4', 'i')},\n",
    "    skiprows=1, delimiter=\",\", encoding=\"UTF-8\")\n",
    "\n",
    "df = pd.DataFrame(dataset[0:])\n",
    "\n",
    "#training data\n",
    "x_train = df['year'][:40].values.reshape(-1, 1)\n",
    "y_train = df['population'][:40].values.reshape(-1, 1)\n",
    "\n",
    "#training\n",
    "lr = LinearRegression()\n",
    "lr.fit(x_train, y_train)\n",
    "\n",
    "#printing coefficients\n",
    "print(lr.intercept_, lr.coef_)\n",
    "\n",
    "#prediction\n",
    "x_predict = x_train = df['year'][41:].values.reshape(-1, 1)\n",
    "y_actual = df['population'][41:].values.reshape(-1, 1)\n",
    "y_predict = lr.predict(x_predict)\n",
    "\n",
    "plot.scatter(x_predict, y_actual)\n",
    "plot.plot(x_predict, y_predict, color='red', linewidth=2)\n",
    "plot.show()"
   ]
  },
  {
   "cell_type": "markdown",
   "metadata": {},
   "source": [
    "En ayant plus de données, on remarque que les données réelles sont bien plus élevées que les données estimés.\n",
    "La courbe de progression de la population n'est pas linéaire"
   ]
  },
  {
   "cell_type": "code",
   "execution_count": 7,
   "metadata": {},
   "outputs": [
    {
     "name": "stdout",
     "output_type": "stream",
     "text": [
      "[-4.30491266e+09] [[ 0.00000000e+00  4.06776344e+06 -9.42279929e+02]]\n"
     ]
    },
    {
     "data": {
      "image/png": "[encoded data removed]",
      "text/plain": [
       "<Figure size 432x288 with 1 Axes>"
      ]
     },
     "metadata": {
      "needs_background": "light"
     },
     "output_type": "display_data"
    }
   ],
   "source": [
    "import numpy as np\n",
    "import matplotlib.pyplot as plot\n",
    "import pandas as pd\n",
    "from sklearn.linear_model import LinearRegression\n",
    "from sklearn.preprocessing import PolynomialFeatures\n",
    "dataset = np.loadtxt(\"population.csv\", dtype={'names': ('year', 'population'), 'formats': ('i4', 'i')},\n",
    "    skiprows=1, delimiter=\",\", encoding=\"UTF-8\")\n",
    "\n",
    "df = pd.DataFrame(dataset[4:])\n",
    "\n",
    "#training data\n",
    "\n",
    "x_train = df['year'][:50].values.reshape(-1, 1)\n",
    "y_train = df['population'][:50].values.reshape(-1, 1)\n",
    "\n",
    "pf = PolynomialFeatures(degree=2)\n",
    "x_poly = pf.fit_transform(x_train)\n",
    "\n",
    "#training\n",
    "lr = LinearRegression()\n",
    "lr.fit(x_poly, y_train)\n",
    "\n",
    "#printing coefficients\n",
    "print(lr.intercept_, lr.coef_)\n",
    "\n",
    "#prediction\n",
    "x_predict = x_train = df['year'][41:].values.reshape(-1, 1)\n",
    "y_actual = df['population'][41:].values.reshape(-1, 1)\n",
    "y_predict = lr.predict(pf.fit_transform(x_predict))\n",
    "\n",
    "plot.scatter(x_predict, y_actual)\n",
    "plot.plot(x_predict, y_predict, color='red', linewidth=2)\n",
    "plot.show()"
   ]
  },
  {
   "cell_type": "code",
   "execution_count": 8,
   "metadata": {},
   "outputs": [
    {
     "name": "stdout",
     "output_type": "stream",
     "text": [
      "[7.53637479e+09] [[ 0.00000000e+00 -7.89980194e+06  2.08142727e+03]]\n"
     ]
    },
    {
     "data": {
      "image/png": "[encoded data removed]",
      "text/plain": [
       "<Figure size 432x288 with 1 Axes>"
      ]
     },
     "metadata": {
      "needs_background": "light"
     },
     "output_type": "display_data"
    }
   ],
   "source": [
    "import numpy as np\n",
    "import matplotlib.pyplot as plot\n",
    "import pandas as pd\n",
    "from sklearn.linear_model import LinearRegression\n",
    "from sklearn.preprocessing import PolynomialFeatures\n",
    "dataset = np.loadtxt(\"population.csv\", dtype={'names': ('year', 'population'), 'formats': ('i4', 'i')},\n",
    "    skiprows=1, delimiter=\",\", encoding=\"UTF-8\")\n",
    "\n",
    "df = pd.DataFrame(dataset)\n",
    "\n",
    "#training data\n",
    "\n",
    "x_train = df['year'][:40].values.reshape(-1, 1)\n",
    "y_train = df['population'][:40].values.reshape(-1, 1)\n",
    "\n",
    "pf = PolynomialFeatures(degree=2)\n",
    "x_poly = pf.fit_transform(x_train)\n",
    "\n",
    "#training\n",
    "lr = LinearRegression()\n",
    "lr.fit(x_poly, y_train)\n",
    "\n",
    "#printing coefficients\n",
    "print(lr.intercept_, lr.coef_)\n",
    "\n",
    "#prediction\n",
    "x_predict = x_train = df['year'][41:].values.reshape(-1, 1)\n",
    "\n",
    "# Let's add some more years\n",
    "x_predict = np.append(range(1900, 1959), x_predict)\n",
    "x_predict = x_predict.reshape(-1, 1)\n",
    "\n",
    "y_actual = df['population'][41:].values.reshape(-1, 1)\n",
    "y_predict = lr.predict(pf.fit_transform(x_predict))\n",
    "\n",
    "plot.scatter(df['year'], df['population'])\n",
    "plot.plot(x_predict, y_predict, color='red', linewidth=2)\n",
    "plot.show()"
   ]
  },
  {
   "cell_type": "markdown",
   "metadata": {},
   "source": [
    "En utilisant la regression polynomial avec plus de données, on remarque qu'elle est plus cohérente par rapport aux données réelle, contrairement à la progression linéaire."
   ]
  },
  {
   "cell_type": "markdown",
   "metadata": {},
   "source": [
    "### Exercice 3.2"
   ]
  },
  {
   "cell_type": "code",
   "execution_count": 10,
   "metadata": {},
   "outputs": [
    {
     "name": "stdout",
     "output_type": "stream",
     "text": [
      "[0 1]\n"
     ]
    }
   ],
   "source": [
    "import numpy as np\n",
    "import matplotlib.pyplot as plot\n",
    "from sklearn.linear_model import Perceptron\n",
    "\n",
    "numarray = np.array([[0,0,0,0], [0,0,0,1], [0,0,1,0], [0,0,1,1],\n",
    "                     [0,1,0,0], [0,1,0,1], [0,1,1,0], [0,1,1,1],\n",
    "                     [1,0,0,0], [1,0,0,1], [1,0,1,0], [1,0,1,1],\n",
    "                     [1,1,0,0], [1,1,0,1], [1,1,1,0], [1,1,1,1]])\n",
    "result = np.array([0, 0, 0, 0,\n",
    "                     0, 0, 0, 0,\n",
    "                     1, 1, 1, 1,\n",
    "                     1, 1, 1, 1])\n",
    "\n",
    "perceptron = Perceptron(max_iter=1000)\n",
    "perceptron.fit(numarray, result)\n",
    "\n",
    "x_predict = np.array([[0,1,0,1], [1,0,1,1] ])\n",
    "\n",
    "y_predict = perceptron.predict(x_predict)\n",
    "print(y_predict)"
   ]
  },
  {
   "cell_type": "markdown",
   "metadata": {},
   "source": [
    "Le code permet de savoir si le tableau mis en entrée commence par 0 ou par 1.\n",
    "Dans notre cas, comme on a un tableau de 4elements - 4 bits, si le resultat affiché est 0, la donnée d'entrée est compris entre 0 et 7 (0111).\n",
    "A l'inverse, si le resultat affiché est 1, la donnée d'entrée est compris entre 8(1000) à 15 (1111)"
   ]
  },
  {
   "cell_type": "code",
   "execution_count": 11,
   "metadata": {},
   "outputs": [
    {
     "name": "stdout",
     "output_type": "stream",
     "text": [
      "[0 1 1 0]\n"
     ]
    }
   ],
   "source": [
    "import numpy as np\n",
    "import matplotlib.pyplot as plot\n",
    "from sklearn.linear_model import Perceptron\n",
    "\n",
    "numarray = np.array([[0,0,0,0], [0,0,0,1], \n",
    "                     [0,1,0,0], [0,1,1,1],\n",
    "                     [1,0,0,1], [1,0,1,0], \n",
    "                     [1,1,1,0], [1,1,1,1]])\n",
    "result = np.array([0, 0, \n",
    "                     0, 0, \n",
    "                     1, 1,\n",
    "                     1, 1])\n",
    "\n",
    "perceptron = Perceptron(max_iter=1000)\n",
    "perceptron.fit(numarray, result)\n",
    "\n",
    "x_predict = np.array([[0,1,0,1], [1,0,1,1], [1,1,0,0], [0,1,0,1]])\n",
    "\n",
    "y_predict = perceptron.predict(x_predict)\n",
    "print(y_predict)"
   ]
  },
  {
   "cell_type": "markdown",
   "metadata": {},
   "source": [
    "#### Avec MLP Classifer"
   ]
  },
  {
   "cell_type": "code",
   "execution_count": 18,
   "metadata": {},
   "outputs": [
    {
     "name": "stdout",
     "output_type": "stream",
     "text": [
      "[0 1 1 0]\n"
     ]
    }
   ],
   "source": [
    "import numpy as np\n",
    "import matplotlib.pyplot as plot\n",
    "from sklearn.neural_network import MLPClassifier\n",
    "\n",
    "numarray = np.array([[0,0,0,0], [0,0,0,1], \n",
    "                     [0,1,0,0], [0,1,1,1],\n",
    "                     [1,0,0,1], [1,0,1,0], \n",
    "                     [1,1,1,0], [1,1,1,1]])\n",
    "\n",
    "result = np.array([0, 0, \n",
    "                   0, 0, \n",
    "                   1, 1,\n",
    "                   1, 1])\n",
    "\n",
    "mlpclassifier = MLPClassifier(alpha=2, max_iter=1000)\n",
    "mlpclassifier.fit(numarray, result)\n",
    "\n",
    "x_predict = np.array([[0,1,0,1], [1,0,1,1], [1,1,0,0], [0,1,0,1]])\n",
    "\n",
    "y_predict = mlpclassifier.predict(x_predict)\n",
    "print(y_predict)"
   ]
  },
  {
   "cell_type": "markdown",
   "metadata": {},
   "source": [
    "#### Avec SVC Classifer"
   ]
  },
  {
   "cell_type": "code",
   "execution_count": 19,
   "metadata": {},
   "outputs": [
    {
     "name": "stdout",
     "output_type": "stream",
     "text": [
      "[0 1 1 0]\n"
     ]
    }
   ],
   "source": [
    "import numpy as np\n",
    "import matplotlib.pyplot as plot\n",
    "from sklearn import datasets, svm, metrics\n",
    "\n",
    "numarray = numarray = np.array([[0,0,0,0], [0,0,0,1], \n",
    "                     [0,1,0,0], [0,1,1,1],\n",
    "                     [1,0,0,1], [1,0,1,0], \n",
    "                     [1,1,1,0], [1,1,1,1]])\n",
    "\n",
    "result = np.array([0, 0, \n",
    "                   0, 0, \n",
    "                   1, 1,\n",
    "                   1, 1]) \n",
    "\n",
    "svcclassifier = svm.SVC(gamma=0.001, C=100.)\n",
    "svcclassifier.fit(numarray, result)\n",
    "\n",
    "x_predict = np.array([[0,1,0,1], [1,0,1,1], [1,1,0,0], [0,1,0,1]])\n",
    "\n",
    "y_predict = svcclassifier.predict(x_predict)\n",
    "print(y_predict)"
   ]
  },
  {
   "cell_type": "markdown",
   "metadata": {},
   "source": [
    "Il y a differents types de classifier pour ces traitements."
   ]
  },
  {
   "cell_type": "markdown",
   "metadata": {},
   "source": [
    "#### Avec SCI-Kit learn"
   ]
  },
  {
   "cell_type": "code",
   "execution_count": 20,
   "metadata": {},
   "outputs": [
    {
     "name": "stdout",
     "output_type": "stream",
     "text": [
      "[0 1 2 3 4 5 6 7 8 9]\n"
     ]
    }
   ],
   "source": [
    "from sklearn import datasets\n",
    "import numpy as np\n",
    "\n",
    "digits = datasets.load_digits()\n",
    "\n",
    "print(np.unique(digits.target))"
   ]
  },
  {
   "cell_type": "markdown",
   "metadata": {},
   "source": [
    "On load les 9 digits"
   ]
  },
  {
   "cell_type": "code",
   "execution_count": 43,
   "metadata": {},
   "outputs": [
    {
     "name": "stdout",
     "output_type": "stream",
     "text": [
      "Number of images:  115008\n",
      "Input data:  [[ 0.  0.  5. 13.  9.  1.  0.  0.]\n",
      " [ 0.  0. 13. 15. 10. 15.  5.  0.]\n",
      " [ 0.  3. 15.  2.  0. 11.  8.  0.]\n",
      " [ 0.  4. 12.  0.  0.  8.  8.  0.]\n",
      " [ 0.  5.  8.  0.  0.  9.  8.  0.]\n",
      " [ 0.  4. 11.  0.  1. 12.  7.  0.]\n",
      " [ 0.  2. 14.  5. 10. 12.  0.  0.]\n",
      " [ 0.  0.  6. 13. 10.  0.  0.  0.]]\n",
      "Label: 0\n",
      "Shape: 1797\n"
     ]
    },
    {
     "data": {
      "image/png": "[encoded data removed]",
      "text/plain": [
       "<Figure size 432x288 with 1 Axes>"
      ]
     },
     "metadata": {
      "needs_background": "light"
     },
     "output_type": "display_data"
    }
   ],
   "source": [
    "from sklearn import datasets\n",
    "import numpy as np\n",
    "import matplotlib.pyplot as plot\n",
    "\n",
    "digits = datasets.load_digits()\n",
    "\n",
    "print(\"Number of images: \", digits.images.size)\n",
    "print(\"Input data: \", digits.images[0])\n",
    "print(\"Label:\", digits.target[0])\n",
    "print(\"Shape:\", str(digits.images.shape[0]))\n",
    "\n",
    "plot.imshow(digits.images[5], cmap=plot.cm.gray_r)\n",
    "plot.show()"
   ]
  },
  {
   "cell_type": "code",
   "execution_count": null,
   "metadata": {},
   "outputs": [],
   "source": [
    "On affiche le 5ème digits"
   ]
  },
  {
   "cell_type": "code",
   "execution_count": 49,
   "metadata": {},
   "outputs": [
    {
     "name": "stdout",
     "output_type": "stream",
     "text": [
      "Predicted value:  [4]\n"
     ]
    },
    {
     "data": {
      "image/png": "[encoded data removed]",
      "text/plain": [
       "<Figure size 432x288 with 1 Axes>"
      ]
     },
     "metadata": {
      "needs_background": "light"
     },
     "output_type": "display_data"
    }
   ],
   "source": [
    "from sklearn import datasets, svm\n",
    "import numpy as np\n",
    "import matplotlib.pyplot as plot\n",
    "\n",
    "digits = datasets.load_digits()\n",
    "\n",
    "training_images = digits.images[:int(digits.images.shape[0]/2)]\n",
    "training_images = training_images.reshape((training_images.shape[0], -1))\n",
    "\n",
    "training_target = digits.target[0:int(digits.target.shape[0]/2)]\n",
    "\n",
    "classifier = svm.SVC(gamma=0.001, C=100.)\n",
    "#training\n",
    "classifier.fit(training_images, training_target)\n",
    "\n",
    "#prediction\n",
    "predict_image = digits.images[int(digits.images.shape[0]/2)+2]\n",
    "print(\"Predicted value: \", classifier.predict(predict_image.reshape(1,-1)))\n",
    "\n",
    "plot.imshow(predict_image, cmap=plot.cm.gray_r)\n",
    "plot.show()"
   ]
  },
  {
   "cell_type": "code",
   "execution_count": 41,
   "metadata": {},
   "outputs": [
    {
     "name": "stdout",
     "output_type": "stream",
     "text": [
      "              precision    recall  f1-score   support\n",
      "\n",
      "           0       1.00      0.99      0.99        88\n",
      "           1       0.99      0.96      0.97        91\n",
      "           2       0.99      0.99      0.99        86\n",
      "           3       0.98      0.90      0.94        91\n",
      "           4       0.99      0.96      0.97        92\n",
      "           5       0.95      0.96      0.95        91\n",
      "           6       0.99      0.99      0.99        91\n",
      "           7       0.98      0.99      0.98        89\n",
      "           8       0.94      1.00      0.97        87\n",
      "           9       0.92      0.98      0.95        92\n",
      "\n",
      "    accuracy                           0.97       898\n",
      "   macro avg       0.97      0.97      0.97       898\n",
      "weighted avg       0.97      0.97      0.97       898\n",
      "\n"
     ]
    }
   ],
   "source": [
    "from sklearn import datasets, svm, metrics\n",
    "import numpy as np\n",
    "import matplotlib.pyplot as plot\n",
    "\n",
    "digits = datasets.load_digits()\n",
    "\n",
    "training_images = digits.images[:int(digits.images.shape[0]/2)]\n",
    "training_images = training_images.reshape((training_images.shape[0], -1))\n",
    "\n",
    "training_target = digits.target[0:int(digits.target.shape[0]/2)]\n",
    "\n",
    "classifier = svm.SVC(gamma=0.001, C=100.)\n",
    "#training\n",
    "classifier.fit(training_images, training_target)\n",
    "\n",
    "#prediction\n",
    "predict_images = digits.images[int(digits.images.shape[0]/2)+1:]\n",
    "actual_labels = digits.target[int(digits.target.shape[0]/2)+1:]\n",
    "predicted_labels = classifier.predict(predict_images.reshape((predict_images.shape[0], -1)))\n",
    "\n",
    "#classification report\n",
    "print(metrics.classification_report(actual_labels,predicted_labels))"
   ]
  },
  {
   "cell_type": "code",
   "execution_count": null,
   "metadata": {},
   "outputs": [],
   "source": []
  }
 ],
 "metadata": {
  "kernelspec": {
   "display_name": "Python 3",
   "language": "python",
   "name": "python3"
  },
  "language_info": {
   "codemirror_mode": {
    "name": "ipython",
    "version": 3
   },
   "file_extension": ".py",
   "mimetype": "text/x-python",
   "name": "python",
   "nbconvert_exporter": "python",
   "pygments_lexer": "ipython3",
   "version": "3.7.4"
  }
 },
 "nbformat": 4,
 "nbformat_minor": 2
}
