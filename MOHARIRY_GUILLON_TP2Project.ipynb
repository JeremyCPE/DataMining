{
 "cells": [
  {
   "cell_type": "markdown",
   "metadata": {},
   "source": [
    "The goal of this project is to recommend images based on preferences of the user. We will build this system in three practical sessions.\n",
    "We have to collect the following data.\n",
    "\n",
    "    A set of images.\n",
    "    Ask the user to select some images and add tags.\n",
    "    We analyse user created-tags and information (like image size, predominant colors) of available images to propose new images to the user.\n",
    "\n",
    "For this question, you have the following tasks to program:\n",
    "\n",
    "    Create a folder called testimages.\n",
    "    Download open-licensed images to the folder testimages.\n",
    "    Save information of images (like predominant colors, tags, image size etc.) in a JSON file.\n",
    "\n",
    "Ask the user to select some images and add tags. For every user, you are now in a position to build user-preference profile, based on this selection. You can collect information like\n",
    "\n",
    "    Favorite colors\n",
    "    Favorite image sizes (thumbnail images, large images, medium-size images etc.)\n",
    "    Tags\n",
    "    ...\n"
   ]
  },
  {
   "cell_type": "code",
   "execution_count": 1,
   "metadata": {},
   "outputs": [
    {
     "name": "stdout",
     "output_type": "stream",
     "text": [
      "Recuperation de la  1  couleur(s) des 75  images\n"
     ]
    },
    {
     "data": {
      "text/plain": [
       "<Figure size 640x480 with 1 Axes>"
      ]
     },
     "metadata": {},
     "output_type": "display_data"
    },
    {
     "name": "stdout",
     "output_type": "stream",
     "text": [
      "ajout de  blonde_bar_amis.jpg ...\n"
     ]
    },
    {
     "data": {
      "text/plain": [
       "<Figure size 640x480 with 1 Axes>"
      ]
     },
     "metadata": {},
     "output_type": "display_data"
    },
    {
     "name": "stdout",
     "output_type": "stream",
     "text": [
      "ajout de  blonde_bar_trinque.jpg ...\n"
     ]
    },
    {
     "data": {
      "text/plain": [
       "<Figure size 640x480 with 1 Axes>"
      ]
     },
     "metadata": {},
     "output_type": "display_data"
    },
    {
     "name": "stdout",
     "output_type": "stream",
     "text": [
      "ajout de  blonde_exterieur_amis.jpg ...\n"
     ]
    },
    {
     "data": {
      "text/plain": [
       "<Figure size 640x480 with 1 Axes>"
      ]
     },
     "metadata": {},
     "output_type": "display_data"
    },
    {
     "name": "stdout",
     "output_type": "stream",
     "text": [
      "ajout de  blonde_exterieur_art (2).jpg ...\n"
     ]
    },
    {
     "data": {
      "text/plain": [
       "<Figure size 640x480 with 1 Axes>"
      ]
     },
     "metadata": {},
     "output_type": "display_data"
    },
    {
     "name": "stdout",
     "output_type": "stream",
     "text": [
      "ajout de  blonde_exterieur_art.jpg ...\n"
     ]
    },
    {
     "data": {
      "text/plain": [
       "<Figure size 640x480 with 1 Axes>"
      ]
     },
     "metadata": {},
     "output_type": "display_data"
    },
    {
     "name": "stdout",
     "output_type": "stream",
     "text": [
      "ajout de  blonde_interieur_trinque.jpg ...\n"
     ]
    },
    {
     "data": {
      "text/plain": [
       "<Figure size 640x480 with 1 Axes>"
      ]
     },
     "metadata": {},
     "output_type": "display_data"
    },
    {
     "name": "stdout",
     "output_type": "stream",
     "text": [
      "ajout de  blonde_montage_art.jpg ...\n"
     ]
    },
    {
     "data": {
      "text/plain": [
       "<Figure size 640x480 with 1 Axes>"
      ]
     },
     "metadata": {},
     "output_type": "display_data"
    },
    {
     "name": "stdout",
     "output_type": "stream",
     "text": [
      "ajout de  blonde_montage_foot.jpg ...\n"
     ]
    },
    {
     "data": {
      "text/plain": [
       "<Figure size 640x480 with 1 Axes>"
      ]
     },
     "metadata": {},
     "output_type": "display_data"
    },
    {
     "name": "stdout",
     "output_type": "stream",
     "text": [
      "ajout de  blonde_salon_degusation.jpg ...\n"
     ]
    },
    {
     "data": {
      "text/plain": [
       "<Figure size 640x480 with 1 Axes>"
      ]
     },
     "metadata": {},
     "output_type": "display_data"
    },
    {
     "name": "stdout",
     "output_type": "stream",
     "text": [
      "ajout de  blonde_soiree_amis.jpg ...\n"
     ]
    },
    {
     "data": {
      "text/plain": [
       "<Figure size 640x480 with 1 Axes>"
      ]
     },
     "metadata": {},
     "output_type": "display_data"
    },
    {
     "name": "stdout",
     "output_type": "stream",
     "text": [
      "ajout de  blonde_terasse_amis (2).jpg ...\n"
     ]
    },
    {
     "data": {
      "text/plain": [
       "<Figure size 640x480 with 1 Axes>"
      ]
     },
     "metadata": {},
     "output_type": "display_data"
    },
    {
     "name": "stdout",
     "output_type": "stream",
     "text": [
      "ajout de  blonde_terasse_degustation.jpg ...\n"
     ]
    },
    {
     "data": {
      "text/plain": [
       "<Figure size 640x480 with 1 Axes>"
      ]
     },
     "metadata": {},
     "output_type": "display_data"
    },
    {
     "name": "stdout",
     "output_type": "stream",
     "text": [
      "ajout de  bouteille_bar_amis.jpg ...\n"
     ]
    },
    {
     "data": {
      "text/plain": [
       "<Figure size 640x480 with 1 Axes>"
      ]
     },
     "metadata": {},
     "output_type": "display_data"
    },
    {
     "name": "stdout",
     "output_type": "stream",
     "text": [
      "ajout de  bouteille_bar_collection.jpg ...\n"
     ]
    },
    {
     "data": {
      "text/plain": [
       "<Figure size 640x480 with 1 Axes>"
      ]
     },
     "metadata": {},
     "output_type": "display_data"
    },
    {
     "name": "stdout",
     "output_type": "stream",
     "text": [
      "ajout de  bouteille_exterieure_publicite.jpg ...\n"
     ]
    },
    {
     "data": {
      "text/plain": [
       "<Figure size 640x480 with 1 Axes>"
      ]
     },
     "metadata": {},
     "output_type": "display_data"
    },
    {
     "name": "stdout",
     "output_type": "stream",
     "text": [
      "ajout de  bouteille_exterieur_art.png ...\n"
     ]
    },
    {
     "data": {
      "text/plain": [
       "<Figure size 640x480 with 1 Axes>"
      ]
     },
     "metadata": {},
     "output_type": "display_data"
    },
    {
     "name": "stdout",
     "output_type": "stream",
     "text": [
      "ajout de  bouteille_exterieur_publicite (2).png ...\n"
     ]
    },
    {
     "data": {
      "text/plain": [
       "<Figure size 640x480 with 1 Axes>"
      ]
     },
     "metadata": {},
     "output_type": "display_data"
    },
    {
     "name": "stdout",
     "output_type": "stream",
     "text": [
      "ajout de  bouteille_exterieur_publicite (3).png ...\n"
     ]
    },
    {
     "data": {
      "text/plain": [
       "<Figure size 640x480 with 1 Axes>"
      ]
     },
     "metadata": {},
     "output_type": "display_data"
    },
    {
     "name": "stdout",
     "output_type": "stream",
     "text": [
      "ajout de  bouteille_exterieur_publicite (4).png ...\n"
     ]
    },
    {
     "data": {
      "text/plain": [
       "<Figure size 640x480 with 1 Axes>"
      ]
     },
     "metadata": {},
     "output_type": "display_data"
    },
    {
     "name": "stdout",
     "output_type": "stream",
     "text": [
      "ajout de  bouteille_exterieur_publicite.jpg ...\n"
     ]
    },
    {
     "data": {
      "text/plain": [
       "<Figure size 640x480 with 1 Axes>"
      ]
     },
     "metadata": {},
     "output_type": "display_data"
    },
    {
     "name": "stdout",
     "output_type": "stream",
     "text": [
      "ajout de  bouteille_exterieur_publicite.png ...\n"
     ]
    },
    {
     "data": {
      "text/plain": [
       "<Figure size 640x480 with 1 Axes>"
      ]
     },
     "metadata": {},
     "output_type": "display_data"
    },
    {
     "name": "stdout",
     "output_type": "stream",
     "text": [
      "ajout de  bouteille_interieur_art.jpg ...\n"
     ]
    },
    {
     "data": {
      "text/plain": [
       "<Figure size 640x480 with 1 Axes>"
      ]
     },
     "metadata": {},
     "output_type": "display_data"
    },
    {
     "name": "stdout",
     "output_type": "stream",
     "text": [
      "ajout de  bouteille_interieur_art.png ...\n"
     ]
    },
    {
     "data": {
      "text/plain": [
       "<Figure size 640x480 with 1 Axes>"
      ]
     },
     "metadata": {},
     "output_type": "display_data"
    },
    {
     "name": "stdout",
     "output_type": "stream",
     "text": [
      "ajout de  bouteille_interieur_collection.png ...\n"
     ]
    },
    {
     "data": {
      "text/plain": [
       "<Figure size 640x480 with 1 Axes>"
      ]
     },
     "metadata": {},
     "output_type": "display_data"
    },
    {
     "name": "stdout",
     "output_type": "stream",
     "text": [
      "ajout de  bouteille_interieur_degustation (2).jpg ...\n"
     ]
    },
    {
     "data": {
      "text/plain": [
       "<Figure size 640x480 with 1 Axes>"
      ]
     },
     "metadata": {},
     "output_type": "display_data"
    },
    {
     "name": "stdout",
     "output_type": "stream",
     "text": [
      "ajout de  bouteille_interieur_publicite.jpg ...\n"
     ]
    },
    {
     "data": {
      "text/plain": [
       "<Figure size 640x480 with 1 Axes>"
      ]
     },
     "metadata": {},
     "output_type": "display_data"
    },
    {
     "name": "stdout",
     "output_type": "stream",
     "text": [
      "ajout de  bouteille_magasin_collection.jpg ...\n"
     ]
    },
    {
     "data": {
      "text/plain": [
       "<Figure size 640x480 with 1 Axes>"
      ]
     },
     "metadata": {},
     "output_type": "display_data"
    },
    {
     "name": "stdout",
     "output_type": "stream",
     "text": [
      "ajout de  bouteille_montage_art (2).png ...\n"
     ]
    },
    {
     "data": {
      "text/plain": [
       "<Figure size 640x480 with 1 Axes>"
      ]
     },
     "metadata": {},
     "output_type": "display_data"
    },
    {
     "name": "stdout",
     "output_type": "stream",
     "text": [
      "ajout de  bouteille_montage_art (3).png ...\n"
     ]
    },
    {
     "data": {
      "text/plain": [
       "<Figure size 640x480 with 1 Axes>"
      ]
     },
     "metadata": {},
     "output_type": "display_data"
    },
    {
     "name": "stdout",
     "output_type": "stream",
     "text": [
      "ajout de  bouteille_montage_art (4).png ...\n"
     ]
    },
    {
     "data": {
      "text/plain": [
       "<Figure size 640x480 with 1 Axes>"
      ]
     },
     "metadata": {},
     "output_type": "display_data"
    },
    {
     "name": "stdout",
     "output_type": "stream",
     "text": [
      "ajout de  bouteille_montage_art.png ...\n"
     ]
    },
    {
     "data": {
      "text/plain": [
       "<Figure size 640x480 with 1 Axes>"
      ]
     },
     "metadata": {},
     "output_type": "display_data"
    },
    {
     "name": "stdout",
     "output_type": "stream",
     "text": [
      "ajout de  bouteille_montage_collection.jpg ...\n"
     ]
    },
    {
     "data": {
      "text/plain": [
       "<Figure size 640x480 with 1 Axes>"
      ]
     },
     "metadata": {},
     "output_type": "display_data"
    },
    {
     "name": "stdout",
     "output_type": "stream",
     "text": [
      "ajout de  bouteille_montage_collection.png ...\n"
     ]
    },
    {
     "data": {
      "text/plain": [
       "<Figure size 640x480 with 1 Axes>"
      ]
     },
     "metadata": {},
     "output_type": "display_data"
    },
    {
     "name": "stdout",
     "output_type": "stream",
     "text": [
      "ajout de  bouteille_montage_foot.jpg ...\n"
     ]
    },
    {
     "data": {
      "text/plain": [
       "<Figure size 640x480 with 1 Axes>"
      ]
     },
     "metadata": {},
     "output_type": "display_data"
    },
    {
     "name": "stdout",
     "output_type": "stream",
     "text": [
      "ajout de  bouteille_montage_publicite (2).jpg ...\n"
     ]
    },
    {
     "data": {
      "text/plain": [
       "<Figure size 640x480 with 1 Axes>"
      ]
     },
     "metadata": {},
     "output_type": "display_data"
    },
    {
     "name": "stdout",
     "output_type": "stream",
     "text": [
      "ajout de  bouteille_montage_publicite (3).jpg ...\n"
     ]
    },
    {
     "data": {
      "text/plain": [
       "<Figure size 640x480 with 1 Axes>"
      ]
     },
     "metadata": {},
     "output_type": "display_data"
    },
    {
     "name": "stdout",
     "output_type": "stream",
     "text": [
      "ajout de  bouteille_montage_publicite (4).jpg ...\n"
     ]
    },
    {
     "data": {
      "text/plain": [
       "<Figure size 640x480 with 1 Axes>"
      ]
     },
     "metadata": {},
     "output_type": "display_data"
    },
    {
     "name": "stdout",
     "output_type": "stream",
     "text": [
      "ajout de  bouteille_montage_publicite (4).png ...\n"
     ]
    },
    {
     "data": {
      "text/plain": [
       "<Figure size 640x480 with 1 Axes>"
      ]
     },
     "metadata": {},
     "output_type": "display_data"
    },
    {
     "name": "stdout",
     "output_type": "stream",
     "text": [
      "ajout de  bouteille_montage_publicite (5).png ...\n"
     ]
    },
    {
     "data": {
      "text/plain": [
       "<Figure size 640x480 with 1 Axes>"
      ]
     },
     "metadata": {},
     "output_type": "display_data"
    },
    {
     "name": "stdout",
     "output_type": "stream",
     "text": [
      "ajout de  bouteille_montage_publicite.jpg ...\n"
     ]
    },
    {
     "data": {
      "text/plain": [
       "<Figure size 640x480 with 1 Axes>"
      ]
     },
     "metadata": {},
     "output_type": "display_data"
    },
    {
     "name": "stdout",
     "output_type": "stream",
     "text": [
      "ajout de  bouteille_montage_publicite.png ...\n"
     ]
    },
    {
     "data": {
      "text/plain": [
       "<Figure size 640x480 with 1 Axes>"
      ]
     },
     "metadata": {},
     "output_type": "display_data"
    },
    {
     "name": "stdout",
     "output_type": "stream",
     "text": [
      "ajout de  bouteille_publicite_degustation.jpg ...\n"
     ]
    },
    {
     "data": {
      "text/plain": [
       "<Figure size 640x480 with 1 Axes>"
      ]
     },
     "metadata": {},
     "output_type": "display_data"
    },
    {
     "name": "stdout",
     "output_type": "stream",
     "text": [
      "ajout de  bouteille_salon_degustation.jpg ...\n"
     ]
    },
    {
     "data": {
      "text/plain": [
       "<Figure size 640x480 with 1 Axes>"
      ]
     },
     "metadata": {},
     "output_type": "display_data"
    },
    {
     "name": "stdout",
     "output_type": "stream",
     "text": [
      "ajout de  bouteille_soiree_amis (3).jpg ...\n"
     ]
    },
    {
     "data": {
      "text/plain": [
       "<Figure size 640x480 with 1 Axes>"
      ]
     },
     "metadata": {},
     "output_type": "display_data"
    },
    {
     "name": "stdout",
     "output_type": "stream",
     "text": [
      "ajout de  bouteille_soiree_amis.jpg ...\n"
     ]
    },
    {
     "data": {
      "text/plain": [
       "<Figure size 640x480 with 1 Axes>"
      ]
     },
     "metadata": {},
     "output_type": "display_data"
    },
    {
     "name": "stdout",
     "output_type": "stream",
     "text": [
      "ajout de  bouteille_soiree_collection.jpg ...\n"
     ]
    },
    {
     "data": {
      "text/plain": [
       "<Figure size 640x480 with 1 Axes>"
      ]
     },
     "metadata": {},
     "output_type": "display_data"
    },
    {
     "name": "stdout",
     "output_type": "stream",
     "text": [
      "ajout de  bouteille_sol_collection (2).jpg ...\n"
     ]
    },
    {
     "data": {
      "text/plain": [
       "<Figure size 640x480 with 1 Axes>"
      ]
     },
     "metadata": {},
     "output_type": "display_data"
    },
    {
     "name": "stdout",
     "output_type": "stream",
     "text": [
      "ajout de  bouteille_sol_collection (3).jpg ...\n"
     ]
    },
    {
     "data": {
      "text/plain": [
       "<Figure size 640x480 with 1 Axes>"
      ]
     },
     "metadata": {},
     "output_type": "display_data"
    },
    {
     "name": "stdout",
     "output_type": "stream",
     "text": [
      "ajout de  bouteille_sol_collection.jpg ...\n"
     ]
    },
    {
     "data": {
      "text/plain": [
       "<Figure size 640x480 with 1 Axes>"
      ]
     },
     "metadata": {},
     "output_type": "display_data"
    },
    {
     "name": "stdout",
     "output_type": "stream",
     "text": [
      "ajout de  bouteille_sol_publicite.jpg ...\n"
     ]
    },
    {
     "data": {
      "text/plain": [
       "<Figure size 640x480 with 1 Axes>"
      ]
     },
     "metadata": {},
     "output_type": "display_data"
    },
    {
     "name": "stdout",
     "output_type": "stream",
     "text": [
      "ajout de  brune_montage_publicite.jpg ...\n"
     ]
    },
    {
     "data": {
      "text/plain": [
       "<Figure size 640x480 with 1 Axes>"
      ]
     },
     "metadata": {},
     "output_type": "display_data"
    },
    {
     "name": "stdout",
     "output_type": "stream",
     "text": [
      "ajout de  brune_sol_publicite.jpg ...\n"
     ]
    },
    {
     "data": {
      "text/plain": [
       "<Figure size 640x480 with 1 Axes>"
      ]
     },
     "metadata": {},
     "output_type": "display_data"
    },
    {
     "name": "stdout",
     "output_type": "stream",
     "text": [
      "ajout de  canette_exterieur_publicite (2).jpg ...\n"
     ]
    },
    {
     "data": {
      "text/plain": [
       "<Figure size 640x480 with 1 Axes>"
      ]
     },
     "metadata": {},
     "output_type": "display_data"
    },
    {
     "name": "stdout",
     "output_type": "stream",
     "text": [
      "ajout de  canette_exterieur_publicite.jpg ...\n"
     ]
    },
    {
     "data": {
      "text/plain": [
       "<Figure size 640x480 with 1 Axes>"
      ]
     },
     "metadata": {},
     "output_type": "display_data"
    },
    {
     "name": "stdout",
     "output_type": "stream",
     "text": [
      "ajout de  canette_interieur_degustation.jpg ...\n"
     ]
    },
    {
     "data": {
      "text/plain": [
       "<Figure size 640x480 with 1 Axes>"
      ]
     },
     "metadata": {},
     "output_type": "display_data"
    },
    {
     "name": "stdout",
     "output_type": "stream",
     "text": [
      "ajout de  canette_magasin_collection.jpg ...\n"
     ]
    },
    {
     "data": {
      "text/plain": [
       "<Figure size 640x480 with 1 Axes>"
      ]
     },
     "metadata": {},
     "output_type": "display_data"
    },
    {
     "name": "stdout",
     "output_type": "stream",
     "text": [
      "ajout de  cannette_salon_degustation.jpeg ...\n"
     ]
    },
    {
     "data": {
      "text/plain": [
       "<Figure size 640x480 with 1 Axes>"
      ]
     },
     "metadata": {},
     "output_type": "display_data"
    },
    {
     "name": "stdout",
     "output_type": "stream",
     "text": [
      "ajout de  cocktail_bar_art.jpg ...\n"
     ]
    },
    {
     "data": {
      "text/plain": [
       "<Figure size 640x480 with 1 Axes>"
      ]
     },
     "metadata": {},
     "output_type": "display_data"
    },
    {
     "name": "stdout",
     "output_type": "stream",
     "text": [
      "ajout de  pression_bar_art (2).jpg ...\n"
     ]
    },
    {
     "data": {
      "text/plain": [
       "<Figure size 640x480 with 1 Axes>"
      ]
     },
     "metadata": {},
     "output_type": "display_data"
    },
    {
     "name": "stdout",
     "output_type": "stream",
     "text": [
      "ajout de  pression_bar_art.jpeg ...\n"
     ]
    },
    {
     "data": {
      "text/plain": [
       "<Figure size 640x480 with 1 Axes>"
      ]
     },
     "metadata": {},
     "output_type": "display_data"
    },
    {
     "name": "stdout",
     "output_type": "stream",
     "text": [
      "ajout de  pression_bar_art.jpg ...\n"
     ]
    },
    {
     "data": {
      "text/plain": [
       "<Figure size 640x480 with 1 Axes>"
      ]
     },
     "metadata": {},
     "output_type": "display_data"
    },
    {
     "name": "stdout",
     "output_type": "stream",
     "text": [
      "ajout de  pression_bar_degustatin.jpg ...\n"
     ]
    },
    {
     "data": {
      "text/plain": [
       "<Figure size 640x480 with 1 Axes>"
      ]
     },
     "metadata": {},
     "output_type": "display_data"
    },
    {
     "name": "stdout",
     "output_type": "stream",
     "text": [
      "ajout de  pression_bar_tireuse (2).jpg ...\n"
     ]
    },
    {
     "data": {
      "text/plain": [
       "<Figure size 640x480 with 1 Axes>"
      ]
     },
     "metadata": {},
     "output_type": "display_data"
    },
    {
     "name": "stdout",
     "output_type": "stream",
     "text": [
      "ajout de  pression_bar_tireuse (3).jpg ...\n"
     ]
    },
    {
     "data": {
      "text/plain": [
       "<Figure size 640x480 with 1 Axes>"
      ]
     },
     "metadata": {},
     "output_type": "display_data"
    },
    {
     "name": "stdout",
     "output_type": "stream",
     "text": [
      "ajout de  pression_bar_tireuse (4).jpg ...\n"
     ]
    },
    {
     "data": {
      "text/plain": [
       "<Figure size 640x480 with 1 Axes>"
      ]
     },
     "metadata": {},
     "output_type": "display_data"
    },
    {
     "name": "stdout",
     "output_type": "stream",
     "text": [
      "ajout de  pression_bar_tireuse.jpg ...\n"
     ]
    },
    {
     "data": {
      "text/plain": [
       "<Figure size 640x480 with 1 Axes>"
      ]
     },
     "metadata": {},
     "output_type": "display_data"
    },
    {
     "name": "stdout",
     "output_type": "stream",
     "text": [
      "ajout de  pression_bar_trinque (3).jpg ...\n"
     ]
    },
    {
     "data": {
      "text/plain": [
       "<Figure size 640x480 with 1 Axes>"
      ]
     },
     "metadata": {},
     "output_type": "display_data"
    },
    {
     "name": "stdout",
     "output_type": "stream",
     "text": [
      "ajout de  pression_interieur_art (2).jpg ...\n"
     ]
    },
    {
     "data": {
      "text/plain": [
       "<Figure size 640x480 with 1 Axes>"
      ]
     },
     "metadata": {},
     "output_type": "display_data"
    },
    {
     "name": "stdout",
     "output_type": "stream",
     "text": [
      "ajout de  pression_interieur_art.jpg ...\n"
     ]
    },
    {
     "data": {
      "text/plain": [
       "<Figure size 640x480 with 1 Axes>"
      ]
     },
     "metadata": {},
     "output_type": "display_data"
    },
    {
     "name": "stdout",
     "output_type": "stream",
     "text": [
      "ajout de  pression_montage_art (2).jpg ...\n"
     ]
    },
    {
     "data": {
      "text/plain": [
       "<Figure size 640x480 with 1 Axes>"
      ]
     },
     "metadata": {},
     "output_type": "display_data"
    },
    {
     "name": "stdout",
     "output_type": "stream",
     "text": [
      "ajout de  pression_montage_art.jpg ...\n"
     ]
    },
    {
     "data": {
      "text/plain": [
       "<Figure size 640x480 with 1 Axes>"
      ]
     },
     "metadata": {},
     "output_type": "display_data"
    },
    {
     "name": "stdout",
     "output_type": "stream",
     "text": [
      "ajout de  pression_montage_publicite.png ...\n"
     ]
    },
    {
     "data": {
      "text/plain": [
       "<Figure size 640x480 with 1 Axes>"
      ]
     },
     "metadata": {},
     "output_type": "display_data"
    },
    {
     "name": "stdout",
     "output_type": "stream",
     "text": [
      "ajout de  pression_terasse_degustation.jpg ...\n"
     ]
    },
    {
     "data": {
      "text/plain": [
       "<Figure size 640x480 with 1 Axes>"
      ]
     },
     "metadata": {},
     "output_type": "display_data"
    },
    {
     "name": "stdout",
     "output_type": "stream",
     "text": [
      "ajout de  verre_exterieur_art (2).png ...\n"
     ]
    },
    {
     "data": {
      "text/plain": [
       "<Figure size 640x480 with 1 Axes>"
      ]
     },
     "metadata": {},
     "output_type": "display_data"
    },
    {
     "name": "stdout",
     "output_type": "stream",
     "text": [
      "ajout de  verre_exterieur_art.png ...\n",
      "Fin, voir le fichier json\n"
     ]
    }
   ],
   "source": [
    "from PIL import Image\n",
    "\n",
    "\n",
    "from operator import itemgetter\n",
    "import numpy\n",
    "import math\n",
    "import matplotlib.pyplot as plot\n",
    "from PIL import Image\n",
    "\n",
    "\n",
    "from operator import itemgetter\n",
    "import numpy\n",
    "import math\n",
    "import matplotlib.pyplot as plot\n",
    "import glob\n",
    "import json\n",
    "import os\n",
    "from sklearn.cluster import KMeans\n",
    "\n",
    "listTotImage = glob.glob(\"project/testimages/*\")\n",
    "selectionMax = len(listTotImage) #Nombre d'images max selectionnées\n",
    "samples = [\"blonde_bar_amis\",\n",
    "\"bouteille_bar_collection\",\n",
    "\"bouteille_montage_publicite (4)\",\n",
    "\"bouteille_montage_foot\",\n",
    "\"pression_bar_tireuse (4)\",\n",
    "\"canette_magasin_collection\",\n",
    "\"cannette_salon_degustation\",\n",
    "\"verre_exterieur_art\",\n",
    "\"pression_bar_trinque(3)\",\n",
    "\"cocktail_bar_art\",\n",
    "\"brune_sol_publicite\",\n",
    "\"bouteille_interieur_degustation (2)\",\n",
    "\"pression_terasse_degustation\",\n",
    "\"bouteille_soiree_amis\",\n",
    "\"bouteille_exterieur_publicite\",\n",
    "\"bouteille_montage_art (2)\",\n",
    "\"bouteille_interieur_art\",\n",
    "\"bouteille_exterieur_publicite (2)\",\n",
    "\"bouteille_interieur_collection\"\n",
    "]\n",
    "n = 1\n",
    "count = 0\n",
    "print(\"Recuperation de la \",n, \" couleur(s) des\",selectionMax,\" images\")\n",
    "f = open(\"project/data.json\", \"w\")\n",
    "f.write(\"\")\n",
    "f.close()\n",
    "dataName = {}\n",
    "datap = []\n",
    "for i in listTotImage:\n",
    "    data = {}\n",
    "    data['name'] = os.path.basename(i)\n",
    "    fullName = os.path.basename(i).split(\".\", 1)[0] #enlever le format\n",
    "    tagName = fullName.split(\" \", 1)[0].split(\"_\") #enlever texte parasites\n",
    "    data['tag'] = tagName\n",
    "    if fullName in samples :\n",
    "        data['isSample'] = 1\n",
    "    else :\n",
    "        data['isSample'] = 0\n",
    "    imgfile = Image.open(i)\n",
    "    numarray = numpy.array(imgfile.getdata(), numpy.uint8)\n",
    "    clusters = KMeans(n_clusters = n)\n",
    "    clusters.fit(numarray)\n",
    "    npbins = numpy.arange(0, n+1)\n",
    "    #nbpins = array([0, 1, ..., n-1])\n",
    "    histogram = numpy.histogram(clusters.labels_, bins=npbins)\n",
    "    labels = numpy.unique(clusters.labels_)\n",
    "    colors = []\n",
    "    sizes = histogram[0]\n",
    "    barlist = plot.bar(labels, histogram[0])\n",
    "    def rgb_to_hex(rgb):\n",
    "        return \"#%02x%02x%02x\" % rgb\n",
    "    for j in range(n):\n",
    "        color = rgb_to_hex(\n",
    "           (math.ceil(clusters.cluster_centers_[j][0]), \n",
    "            math.ceil(clusters.cluster_centers_[j][1]), \n",
    "            math.ceil(clusters.cluster_centers_[j][2])))\n",
    "        barlist[j].set_color('#%02x%02x%02x' % (math.ceil(clusters.cluster_centers_[j][0]),\n",
    "    math.ceil(clusters.cluster_centers_[j][1]), math.ceil(clusters.cluster_centers_[j][2])))\n",
    "        colors.append(color)\n",
    "    data[\"color\"] = color\n",
    "    data[\"intensity\"] = sizes.tolist()[0]\n",
    "    data[\"size\"] = os.path.getsize(i)\n",
    "    \n",
    "    #plot.pie(sizes, labels=labels, colors=colors,shadow=True, startangle=140)\n",
    "    plot.show()\n",
    "    print(\"ajout de \",os.path.basename(i),\"...\")\n",
    "    datap.append(data)\n",
    "dataName['pictures'] = datap\n",
    "dataName['users'] = []    \n",
    "with open('project/data.json', 'a') as outfile:\n",
    "    json.dump(dataName, outfile)\n",
    "print(\"Fin, voir le fichier json\")"
   ]
  },
  {
   "cell_type": "markdown",
   "metadata": {},
   "source": [
    "#### Interaction avec l'utlisateur"
   ]
  },
  {
   "cell_type": "code",
   "execution_count": 4,
   "metadata": {},
   "outputs": [
    {
     "name": "stdout",
     "output_type": "stream",
     "text": [
      "T= Tag /C = CouleurT\n",
      "Saisir le numéro a taguer 2\n",
      "Saisir le tag coca\n",
      "Fait !\n"
     ]
    }
   ],
   "source": [
    "from pandas.io.json import json_normalize\n",
    "import pandas as pd\n",
    "import json\n",
    "import matplotlib.pyplot as plot\n",
    "\n",
    "\n",
    "while True:\n",
    "    n = input(\"T= Tag /C = Couleur\")\n",
    "    if n in ['T','C','A']:\n",
    "        break\n",
    "    else:\n",
    "        print(\"Saisie invalide\")\n",
    "if n == 'T':\n",
    "    tag = input(\"Saisir le numéro a taguer \")\n",
    "    strTag = input(\"Saisir le tag \")\n",
    "    with open(\"project/data.json\", \"r\") as jsonFile:\n",
    "        jsondata = json.load(jsonFile)\n",
    "    tmp = jsondata[int(tag)]['tag']\n",
    "    jsondata[int(tag)]['tag'] = strTag\n",
    "    with open(\"project/data.json\", \"w\") as jsonFile:\n",
    "        json.dump(jsondata, jsonFile)\n",
    "    print(\"Fait !\")\n",
    "if n == 'C':\n",
    "    clr = input(\"Saisir le numéro \")\n",
    "    with open(\"project/data.json\", \"r\") as jsonFile:\n",
    "        jsondata = json.load(jsonFile)\n",
    "    tmp = jsondata[int(clr)]['colors']\n",
    "    tmp2 = jsondata[int(clr)]['intensity']\n",
    "    print(\"Couleurs :\",tmp)\n",
    "    print(\"Intensite :\",tmp2)"
   ]
  },
  {
   "cell_type": "code",
   "execution_count": null,
   "metadata": {},
   "outputs": [],
   "source": [
    "from pandas.io.json import json_normalize\n",
    "import pandas as pd\n",
    "import json, re\n",
    "import matplotlib.pyplot as plot\n",
    "from operator import itemgetter \n",
    "\n",
    "def verifyPseudo(pseudo, jsondata):\n",
    "    usernames = list(map(itemgetter('username'), jsondata[\"users\"])) \n",
    "    if(pseudo in usernames):\n",
    "        return 0\n",
    "    else:\n",
    "        return 1\n",
    "    \n",
    "def pseudoConnectionChoice():\n",
    "    pseudo = \"\"\n",
    "    while True:\n",
    "        pseudo = input(\"Quel est votre pseudo ?\")\n",
    "        if re.match(\"^[A-Za-z0-9_-]*$\", pseudo):\n",
    "            break  \n",
    "        else:\n",
    "            print(\"Seuls les lettres, les nombres, le caractère '-' et le caractère '_' sont acceptés.\")\n",
    "    return pseudo\n",
    "    \n",
    "def createAccountFeature():\n",
    "    print(\"ok\")\n",
    "\n",
    "def connectionFeature():\n",
    "    pseudo = pseudoConnectionChoice()\n",
    "    jsonData = \"\"\n",
    "    with open(\"project/data.json\", \"r\") as jsonFile:\n",
    "        try:\n",
    "            jsonData = json.load(jsonFile)\n",
    "        except:\n",
    "            print(\"Erreur lors de l'ouverture du fichier 'project/data.json' ...\")\n",
    "            print(\"Sortie du script...\")\n",
    "            return 2\n",
    "    if verifyPseudo(pseudo, jsonData) == 1:\n",
    "            print(\"Ce pseudo ne correspond à aucune entrée dans la base de données...\")\n",
    "            print(\"Sortie du script...\")\n",
    "            return 2\n",
    "    else:\n",
    "        print(\"GREAT\")\n",
    "\n",
    "\n",
    "\n",
    "while True:\n",
    "    choix = input(\"Que voulez-vous faire ? (1: création de compte | 2: connexion)\")\n",
    "    if choix in [\"1\", \"2\"]:\n",
    "        break\n",
    "    else:\n",
    "        print(\"Saisie invalide, veuillez choisir entre 1 et 2.\")\n",
    "if choix == \"1\"\n",
    "    createAccountFeature()\n",
    "else:\n",
    "    connectionFeature()\n",
    "\n",
    "\n"
   ]
  },
  {
   "cell_type": "code",
   "execution_count": null,
   "metadata": {},
   "outputs": [],
   "source": [
    "from pandas.io.json import json_normalize\n",
    "import pandas as pd\n",
    "import json\n",
    "import matplotlib.pyplot as plot\n"
   ]
  },
  {
   "cell_type": "code",
   "execution_count": null,
   "metadata": {},
   "outputs": [],
   "source": []
  },
  {
   "cell_type": "code",
   "execution_count": null,
   "metadata": {},
   "outputs": [],
   "source": []
  },
  {
   "cell_type": "code",
   "execution_count": 9,
   "metadata": {
    "scrolled": true
   },
   "outputs": [
    {
     "name": "stdout",
     "output_type": "stream",
     "text": [
      "Que voulez-vous faire ? (1: création de compte | 2: connexion)2\n",
      "Quel est votre pseudo ?Robert\n",
      "[['white', 'bieres', 'photo', 'art', 'tiny'], ['red', 'bieres', 'tireuse', 'bar', 'medium'], ['red', 'bierre', 'pression', 'tireuse', 'big'], ['black', 'bouteille', 'biere', 'coca', 'tiny'], ['yellow', 'bouteille', 'nature', 'verdure', 'tiny'], ['black', 'bouteille', 'canette', 'discotheque', 'little'], ['black', 'bouteille', 'biere', 'bar', 'big'], ['yellow', 'bouteille', 'biere', 'alcool', 'tiny'], ['black', 'canette', 'biere', 'boisson', 'big'], ['black', 'cocktail', 'alcool', 'bar', 'little']]\n",
      "['favorite', 'favorite', 'favorite', 'favorite', 'notfavorite', 'notfavorite', 'notfavorite', 'notfavorite', 'notfavorite', 'notfavorite']\n",
      "    color alcoholType environment       others imageCategory\n",
      "0   white      bieres       photo          art          tiny\n",
      "1     red      bieres     tireuse          bar        medium\n",
      "2     red      bierre    pression      tireuse           big\n",
      "3   black   bouteille       biere         coca          tiny\n",
      "4  yellow   bouteille      nature      verdure          tiny\n",
      "5   black   bouteille     canette  discotheque        little\n",
      "6   black   bouteille       biere          bar           big\n",
      "7  yellow   bouteille       biere       alcool          tiny\n",
      "8   black     canette       biere      boisson           big\n",
      "9   black    cocktail      alcool          bar        little\n",
      "      favorite\n",
      "0     favorite\n",
      "1     favorite\n",
      "2     favorite\n",
      "3     favorite\n",
      "4  notfavorite\n",
      "5  notfavorite\n",
      "6  notfavorite\n",
      "7  notfavorite\n",
      "8  notfavorite\n",
      "9  notfavorite\n",
      "['notfavorite']\n",
      "[0.16045635 0.29132937 0.19727183 0.22395833 0.12698413]\n",
      "Script réalisé avec succès.\n"
     ]
    }
   ],
   "source": [
    "from pandas.io.json import json_normalize\n",
    "import pandas as pd\n",
    "import json, re\n",
    "from sklearn import tree\n",
    "from sklearn.preprocessing import LabelEncoder\n",
    "from sklearn.ensemble import RandomForestClassifier\n",
    "import matplotlib.pyplot as plot\n",
    "import webcolors\n",
    "from operator import itemgetter\n",
    "from PIL import ImageColor\n",
    "\n",
    "#---------------- GET COLOR NAME FROM HEX VALUE -----------------#\n",
    "\n",
    "def closestColor(requested_colour):\n",
    "    COLOR_NAMES_TO_HEX = {\n",
    "    \"aqua\": \"#00ffff\",\n",
    "    \"black\": \"#000000\",\n",
    "    \"blue\": \"#0000ff\",\n",
    "    \"fuchsia\": \"#ff00ff\",\n",
    "    \"green\": \"#00ff00\",\n",
    "    \"red\": \"#ff0000\",\n",
    "    \"white\": \"#ffffff\",\n",
    "    \"yellow\": \"#ffff00\",\n",
    "    }\n",
    "    min_colours = {}\n",
    "    for colorKey in COLOR_NAMES_TO_HEX:\n",
    "        colorHex = COLOR_NAMES_TO_HEX[colorKey]\n",
    "        r_c, g_c, b_c = webcolors.hex_to_rgb(colorHex)\n",
    "        rd = (r_c - requested_colour[0]) ** 2\n",
    "        gd = (g_c - requested_colour[1]) ** 2\n",
    "        bd = (b_c - requested_colour[2]) ** 2\n",
    "        min_colours[(rd + gd + bd)] = colorKey\n",
    "    return min_colours[min(min_colours.keys())]\n",
    "\n",
    "def getColorName(requested_colour):\n",
    "    try:\n",
    "        closest_name = actual_name = webcolors.rgb_to_name(requested_colour)\n",
    "    except ValueError:\n",
    "        closest_name = closestColor(requested_colour)\n",
    "        actual_name = None\n",
    "    return actual_name, closest_name\n",
    "\n",
    "#---------------------------------------------------------------#\n",
    "\n",
    "def getImageCategorySize(size):\n",
    "    if size < 50000:\n",
    "        return \"tiny\"\n",
    "    elif size > 50000 and size < 100000:\n",
    "        return \"little\"\n",
    "    elif size > 100000 and size < 200000:\n",
    "        return \"medium\"\n",
    "    else:\n",
    "        return \"big\"        \n",
    "\n",
    "def getArrayPictures(jsonData):\n",
    "    return jsonData[\"pictures\"]\n",
    "\n",
    "def openJsonFile(path):\n",
    "    with open(path, \"r\") as jsonFile:\n",
    "        try:\n",
    "            return json.load(jsonFile)\n",
    "        except:\n",
    "            print(\"Erreur lors de l'ouverture du fichier 'project/data.json' ...\")\n",
    "            return 1\n",
    "    \n",
    "def verifyPseudo(pseudo, jsonData):\n",
    "    usernames = list(map(itemgetter('username'), jsonData[\"users\"])) \n",
    "    if(pseudo in usernames):\n",
    "        return 0\n",
    "    else:\n",
    "        return 1\n",
    "\n",
    "def addUsernameOnJsonFile(pseudo,jsondata):\n",
    "    data = {\"username\": pseudo, \"favorites\": []}\n",
    "    jsondata['users'].append(data)\n",
    "    with open(\"project/data.json\", \"w\") as jsonFile:\n",
    "            json.dump(jsondata, jsonFile)\n",
    "    \n",
    "def pseudoConnectionChoice():\n",
    "    pseudo = \"\"\n",
    "    while True:\n",
    "        pseudo = input(\"Quel est votre pseudo ?\")\n",
    "        if re.match(\"^[A-Za-z0-9_-]*$\", pseudo):\n",
    "            break  \n",
    "        else:\n",
    "            print(\"Seuls les lettres, les nombres, le caractère '-' et le caractère '_' sont acceptés.\")\n",
    "    return pseudo\n",
    "    \n",
    "def createAccountFeature(jsonData):\n",
    "    pseudo = pseudoConnectionChoice()\n",
    "    jsonData = \"\"\n",
    "    if verifyPseudo(pseudo, jsonData) == 0:\n",
    "            print(\"Ce pseudo est déjà existant dans la base de donnée, veuillez en saisir un nouveau\")\n",
    "            return 1\n",
    "    else:\n",
    "        addUsernameOnJsonFile(pseudo,jsonData)\n",
    "\n",
    "def connectionFeature(jsonData):\n",
    "    pseudo = pseudoConnectionChoice()\n",
    "    if verifyPseudo(pseudo, jsonData) == 1:\n",
    "            print(\"Ce pseudo ne correspond à aucune entrée dans la base de données...\")\n",
    "            return 1\n",
    "    return pseudo\n",
    "\n",
    "def getFavoriteIDsPictures(PSEUDO, users):\n",
    "    for user in users:\n",
    "        if user[\"username\"] == PSEUDO:\n",
    "            if len(user[\"favorites\"]) == 0:\n",
    "                print(\"Aucune image mise en favori pour l'utilisateur \" + PSEUDO + \" ...\")\n",
    "                return 1\n",
    "            return user[\"favorites\"]\n",
    "    print(\"Impossible de récupérer les images favorites du pseudo \" + PSEUDO + \" ...\")\n",
    "    return 1\n",
    "\n",
    "def getDataframedPictures(arrayPictures):\n",
    "    if len(arrayPictures) < 1:\n",
    "        print(\"Aucune image dans le jeu de données...\")\n",
    "        return 1\n",
    "    listDataframedPictures = []\n",
    "    for picture in arrayPictures:\n",
    "        listDataFrame = []\n",
    "        actualColorName, closestColorName = getColorName(ImageColor.getrgb(picture[\"color\"]))\n",
    "        listDataFrame.append(closestColorName if (actualColorName == None) else actualColorName)\n",
    "        for tag in picture[\"tag\"]:\n",
    "            listDataFrame.append(tag)\n",
    "        listDataFrame.append(getImageCategorySize(picture[\"size\"]))\n",
    "        listDataframedPictures.append(listDataFrame)\n",
    "    return listDataframedPictures\n",
    "\n",
    "def getFavoriteSampleArray(arrayIDsFavoritePictures):\n",
    "    if len(arrayIDsFavoritePictures) < 1:\n",
    "        print(\"Aucune image mise en favori...\")\n",
    "        return 1\n",
    "    favoriteSampleArray = []\n",
    "    for i in range(10):\n",
    "        if (i+1) in arrayIDsFavoritePictures:\n",
    "            favoriteSampleArray.append(\"favorite\")\n",
    "        else:\n",
    "            favoriteSampleArray.append(\"notfavorite\")\n",
    "    return favoriteSampleArray  \n",
    "    \n",
    "def getFramesAndLabelsEncoder(data, result):\n",
    "    dataframe = pd.DataFrame(data, columns=['color', 'alcoholType', 'environment', 'others', 'imageCategory'])\n",
    "    resultframe = pd.DataFrame(result, columns=['favorite'])\n",
    "    return dataframe, resultframe\n",
    "    \n",
    "def __main__():\n",
    "    PSEUDO = \"\"\n",
    "    while True:\n",
    "        choix = input(\"Que voulez-vous faire ? (1: création de compte | 2: connexion)\")\n",
    "        if choix in [\"1\", \"2\"]:\n",
    "            break\n",
    "        else:\n",
    "            print(\"Saisie invalide, veuillez choisir entre 1 et 2.\")    \n",
    "    #Ouverture du fichier JSON (une seule fois)\n",
    "    jsonData = openJsonFile(\"project/data.json\")\n",
    "    if jsonData == 1:\n",
    "        return 1\n",
    "    # Action selon le choix de l'utilisateur\n",
    "    if choix == \"1\":\n",
    "        ret = createAccountFeature(jsonData)\n",
    "        return ret\n",
    "    else:\n",
    "        PSEUDO = connectionFeature(jsonData)\n",
    "        if PSEUDO == 1:\n",
    "            return 1\n",
    "    arrayPictures = getArrayPictures(jsonData)\n",
    "    # Récupération des ID d'images favorites\n",
    "    arrayIDsFavoritePictures = getFavoriteIDsPictures(PSEUDO, jsonData[\"users\"])\n",
    "    if arrayIDsFavoritePictures == 1:\n",
    "        return 1\n",
    "    # Récupération des images favorites selon les ID récupérés précédemment\n",
    "    listDataframedPictures = getDataframedPictures(arrayPictures)\n",
    "    if listDataframedPictures == 1:\n",
    "        return 1\n",
    "    print(listDataframedPictures)\n",
    "    # Récupération du tableau booléen des images favorites/non favorites\n",
    "    favoriteSampleArray = getFavoriteSampleArray(arrayIDsFavoritePictures)\n",
    "    if favoriteSampleArray == 1:\n",
    "        return 1\n",
    "    print(favoriteSampleArray)\n",
    "    \n",
    "    # Création du dataframe et du resultframe\n",
    "    dataframe, resultframe = getFramesAndLabelsEncoder(listDataframedPictures, favoriteSampleArray)\n",
    "    print(dataframe)\n",
    "    print(resultframe)\n",
    "    \n",
    "    # Création des LabelEncoder\n",
    "    le1 = LabelEncoder()\n",
    "    dataframe['color'] = le1.fit_transform(dataframe['color'])\n",
    "    le2 = LabelEncoder()\n",
    "    dataframe['alcoholType'] = le2.fit_transform(dataframe['alcoholType'])\n",
    "    le3 = LabelEncoder()\n",
    "    dataframe['environment'] = le3.fit_transform(dataframe['environment'])\n",
    "    le4 = LabelEncoder()\n",
    "    dataframe['others'] = le4.fit_transform(dataframe['others'])\n",
    "    le5 = LabelEncoder()\n",
    "    dataframe['imageCategory'] = le5.fit_transform(dataframe['imageCategory'])\n",
    "    le6 = LabelEncoder()\n",
    "    resultframe['favorite'] = le6.fit_transform(resultframe['favorite'])\n",
    "    \n",
    "    #Use of random forest classifier\n",
    "    rfc = RandomForestClassifier(n_estimators=20, max_depth=4,\n",
    "                             random_state=0)\n",
    "    rfc = rfc.fit(dataframe, resultframe.values.ravel())\n",
    "    \n",
    "    #prediction\n",
    "    prediction = rfc.predict([\n",
    "    [le1.transform(['black'])[0], le2.transform(['canette'])[0],\n",
    "     le3.transform(['photo'])[0], le4.transform(['discotheque'])[0], le5.transform(['little'])[0]]])\n",
    "    print(le6.inverse_transform(prediction))\n",
    "    print(rfc.feature_importances_)\n",
    "    \n",
    "if __main__() == 1:\n",
    "    print(\"Sortie du script...\")\n",
    "else:\n",
    "    print(\"Script réalisé avec succès.\")\n"
   ]
  }
 ],
 "metadata": {
  "kernelspec": {
   "display_name": "Python 3",
   "language": "python",
   "name": "python3"
  },
  "language_info": {
   "codemirror_mode": {
    "name": "ipython",
    "version": 3
   },
   "file_extension": ".py",
   "mimetype": "text/x-python",
   "name": "python",
   "nbconvert_exporter": "python",
   "pygments_lexer": "ipython3",
   "version": "3.7.4"
  },
  "widgets": {
   "application/vnd.jupyter.widget-state+json": {
    "state": {},
    "version_major": 2,
    "version_minor": 0
   }
  }
 },
 "nbformat": 4,
 "nbformat_minor": 2
}
